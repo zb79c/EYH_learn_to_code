{
 "cells": [
  {
   "cell_type": "markdown",
   "metadata": {},
   "source": [
    "# Conundrum\n",
    "\n",
    "Oh no! Your loyal factory worker accidentally drank a Sleep Potion instead of an Energy Potion and in his drowsiness, mislabelled crates containing (1) potion of flight, (2) potion of invisibility, and (3) a mixture of the two. You can only check one potion from one of the crates. "
   ]
  },
  {
   "cell_type": "code",
   "execution_count": null,
   "metadata": {},
   "outputs": [],
   "source": [
    "#Which crate should you pick from (Hint: use either \"flight\", \"invisibility\", or \"mixed\". To test your code, copy the lines from under \"check your code\" in the previous recipes, and test the file \"conundrum_pt1.\")?\n",
    "\n",
    "crate=\"replace_me\"\n"
        "\n",
        "## check to see if your code is correct\n",
        "import run_test as test\n",
        "test.potion3(fire_slug, flame_pepper, phoenix_tear, dragon_scale)"
   ]
  },
  {
   "cell_type": "code",
   "execution_count": null,
   "metadata": {},
   "outputs": [],
   "source": [
    "#Excellent job! Let's say you pull out a potion of flight. What is the contents of each of the mislabelled crates? (Hint: To test your answers, use the same lines that we copied from other recipes as above, and test the file \"conundrum_pt2.\")\n",
    "\n",
    "label_flight=\"replace_me\"\n",
    "label_invisibility=\"replace_me\"\n",
    "label_mixed=\"replace_me\"\n"
   ]
  }
 ],
 "metadata": {
  "language_info": {
   "name": "python"
  }
 },
 "nbformat": 4,
 "nbformat_minor": 2
}

