{
 "cells": [
  {
   "cell_type": "markdown",
   "metadata": {},
   "source": [
    "# Conundrum\n",
    "\n",
    "Oh no! Your loyal factory worker accidentally drank a Sleep Potion instead of an Energy Potion and in his drowsiness, mislabelled crates containing (1) potion of flight, (2) potion of invisibility, and (3) a mixture of the two. You can only check one potion from one of the crates. "
   ]
  },
  {
   "cell_type": "code",
   "execution_count": null,
   "metadata": {},
   "outputs": [],
   "source": [
    "#Which crate should you pick from (Hint: use either \"flight\", \"invisibility\", or \"mixed\")?\n",
    "\n",
    "crate=\"replace_me\"\n"
   ]
  },
  {
   "cell_type": "code",
   "execution_count": null,
   "metadata": {},
   "outputs": [],
   "source": [
    "#Excellent job! Let's say you pull out a potion of flight. What is the contents of each of the mislabelled crates?\n",
    "\n",
    "label_flight=\"\"\n",
    "label_invisibility=\"\"\n",
    "label_mixed=\"\"\n"
   ]
  }
 ],
 "metadata": {
  "language_info": {
   "name": "python"
  }
 },
 "nbformat": 4,
 "nbformat_minor": 2
}

