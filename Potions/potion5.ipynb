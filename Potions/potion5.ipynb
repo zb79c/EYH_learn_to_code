{
 "cells": [
  {
   "cell_type": "markdown",
   "metadata": {},
   "source": [
    "# Recipe for Potion of Flight\n",
    "\n",
    "* ostrich_egg: one, scrambled\n",
    "* penguin_fluff: a pinch\n",
    "* dodo_brain: one, whole\n",
    "* kiwi_talon: three, whole\n",
    "\n",
    "# Objective\n",
    "* Without changing the code below, change the variables so they match the recipe."
   ]
  },
  {
   "cell_type": "code",
   "execution_count": null,
   "metadata": {},
   "outputs": [],
   "source": [
    "#Creating variables for all of your ingredients\n",
    "\n",
    "ostrich_egg = \"two_overeasy\"\n",
    "penguin_fluff = \"handful\"\n",
    "dodo_brain = \"one_quarter\"\n",
    "kiwi_talon =\"five_halves\"\n",
    "\n",
    "## check to see if your code is correct\n",
    "import run_test as test\n",
    "test.potion5(ostrich_egg, penguin_fluff, dodo_brain, kiwi_talon)"
   ]
  }
 ],
 "metadata": {
  "language_info": {
   "name": "python"
  }
 },
 "nbformat": 4,
 "nbformat_minor": 2
}
